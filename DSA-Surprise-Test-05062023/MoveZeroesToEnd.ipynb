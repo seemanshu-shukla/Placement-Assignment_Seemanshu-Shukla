{
 "cells": [
  {
   "cell_type": "markdown",
   "id": "793d18d9",
   "metadata": {},
   "source": [
    "# Move Zeroes\n",
    "Given an integer array nums, move all 0's to the end of it while maintaining the relative order of the non-zero elements.\n",
    "\n",
    "Note that you must do this in-place without making a copy of the array."
   ]
  },
  {
   "cell_type": "code",
   "execution_count": 8,
   "id": "ad081f61",
   "metadata": {},
   "outputs": [],
   "source": [
    "def move_zeroes(l):\n",
    "    j = 0\n",
    "    for i in range(len(l)):\n",
    "        if l[i] != 0:\n",
    "            l[j], l[i] = l[i], l[j]\n",
    "            j += 1\n",
    "    return(l)\n"
   ]
  },
  {
   "cell_type": "code",
   "execution_count": 9,
   "id": "3fcd786a",
   "metadata": {},
   "outputs": [
    {
     "name": "stdout",
     "output_type": "stream",
     "text": [
      "[1, 3, 12, 0, 0]\n"
     ]
    }
   ],
   "source": [
    "#Test Case 1:\n",
    "l = [0,1,0,3,12]\n",
    "print(move_zeroes(l))"
   ]
  },
  {
   "cell_type": "code",
   "execution_count": 10,
   "id": "aea1359d",
   "metadata": {},
   "outputs": [
    {
     "name": "stdout",
     "output_type": "stream",
     "text": [
      "[0]\n"
     ]
    }
   ],
   "source": [
    "#Test Case 2:\n",
    "l = [0]\n",
    "print(move_zeroes(l))"
   ]
  },
  {
   "cell_type": "code",
   "execution_count": 11,
   "id": "f3b17747",
   "metadata": {},
   "outputs": [
    {
     "name": "stdout",
     "output_type": "stream",
     "text": [
      "[5, 6, 4, 6, 9, 8, 0, 0, 0]\n"
     ]
    }
   ],
   "source": [
    "#Test Case 3:\n",
    "l = [5, 6, 0, 4, 6, 0, 9, 0, 8]\n",
    "print(move_zeroes(l))"
   ]
  },
  {
   "cell_type": "code",
   "execution_count": null,
   "id": "232293b4",
   "metadata": {},
   "outputs": [],
   "source": []
  }
 ],
 "metadata": {
  "kernelspec": {
   "display_name": "Python 3 (ipykernel)",
   "language": "python",
   "name": "python3"
  },
  "language_info": {
   "codemirror_mode": {
    "name": "ipython",
    "version": 3
   },
   "file_extension": ".py",
   "mimetype": "text/x-python",
   "name": "python",
   "nbconvert_exporter": "python",
   "pygments_lexer": "ipython3",
   "version": "3.10.9"
  }
 },
 "nbformat": 4,
 "nbformat_minor": 5
}
