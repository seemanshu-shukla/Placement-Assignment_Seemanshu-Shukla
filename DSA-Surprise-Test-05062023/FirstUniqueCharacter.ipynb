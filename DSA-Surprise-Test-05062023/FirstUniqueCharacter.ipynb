{
 "cells": [
  {
   "cell_type": "markdown",
   "id": "c827bfe2",
   "metadata": {},
   "source": [
    "# First Unique Character in a String\n",
    "\n",
    "Given a string s, find the first non-repeating character in it and return its index. If it does not exist, return -1."
   ]
  },
  {
   "cell_type": "code",
   "execution_count": 6,
   "id": "466aec2a",
   "metadata": {},
   "outputs": [],
   "source": [
    "def unique_char(ch):\n",
    "    \n",
    "    index = -1\n",
    "    s = \"\"\n",
    "\n",
    "    if len(ch) == 0 :\n",
    "        return -1\n",
    "\n",
    "    for i in ch:\n",
    "        if ch.count(i) == 1:\n",
    "            s += i\n",
    "            break\n",
    "        else:\n",
    "            index += 1\n",
    "    if index == len(ch)-1 :\n",
    "        return -1\n",
    "    else:\n",
    "        return(s)"
   ]
  },
  {
   "cell_type": "code",
   "execution_count": 7,
   "id": "2fb843c5",
   "metadata": {},
   "outputs": [
    {
     "name": "stdout",
     "output_type": "stream",
     "text": [
      "l\n"
     ]
    }
   ],
   "source": [
    "#Test Case 1\n",
    "ch = \"leetcode\"\n",
    "print(unique_char(ch))"
   ]
  },
  {
   "cell_type": "code",
   "execution_count": 8,
   "id": "66995840",
   "metadata": {},
   "outputs": [
    {
     "name": "stdout",
     "output_type": "stream",
     "text": [
      "v\n"
     ]
    }
   ],
   "source": [
    "#Test Case 2\n",
    "ch = \"loveleetcode\"\n",
    "print(unique_char(ch))"
   ]
  },
  {
   "cell_type": "code",
   "execution_count": 9,
   "id": "2c59e9c6",
   "metadata": {},
   "outputs": [
    {
     "name": "stdout",
     "output_type": "stream",
     "text": [
      "-1\n"
     ]
    }
   ],
   "source": [
    "#Test Case 3\n",
    "ch = \"aabb\"\n",
    "print(unique_char(ch))"
   ]
  },
  {
   "cell_type": "code",
   "execution_count": 10,
   "id": "e4624b0b",
   "metadata": {},
   "outputs": [
    {
     "name": "stdout",
     "output_type": "stream",
     "text": [
      "-1\n"
     ]
    }
   ],
   "source": [
    "#Test Case 4\n",
    "ch = \"\"\n",
    "print(unique_char(ch))"
   ]
  },
  {
   "cell_type": "code",
   "execution_count": null,
   "id": "b4a50480",
   "metadata": {},
   "outputs": [],
   "source": []
  }
 ],
 "metadata": {
  "kernelspec": {
   "display_name": "Python 3 (ipykernel)",
   "language": "python",
   "name": "python3"
  },
  "language_info": {
   "codemirror_mode": {
    "name": "ipython",
    "version": 3
   },
   "file_extension": ".py",
   "mimetype": "text/x-python",
   "name": "python",
   "nbconvert_exporter": "python",
   "pygments_lexer": "ipython3",
   "version": "3.10.9"
  }
 },
 "nbformat": 4,
 "nbformat_minor": 5
}
