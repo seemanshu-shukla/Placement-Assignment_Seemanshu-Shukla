{
 "cells": [
  {
   "cell_type": "code",
   "execution_count": 1,
   "id": "2675c1cd",
   "metadata": {},
   "outputs": [
    {
     "name": "stdout",
     "output_type": "stream",
     "text": [
      "YES\n",
      "NO\n",
      "NO\n"
     ]
    }
   ],
   "source": [
    "def is_valid_string(s):\n",
    "    # Count the frequency of each character\n",
    "    char_counts = {}\n",
    "    for char in s:\n",
    "        if char in char_counts:\n",
    "            char_counts[char] += 1\n",
    "        else:\n",
    "            char_counts[char] = 1\n",
    "\n",
    "    # Check if all frequencies are the same\n",
    "    frequencies = list(char_counts.values())\n",
    "    if len(set(frequencies)) == 1:\n",
    "        return \"YES\"\n",
    "\n",
    "    # Check if removing one character can make all frequencies the same\n",
    "    for char in char_counts:\n",
    "        char_counts[char] -= 1\n",
    "        updated_frequencies = list(char_counts.values())\n",
    "        if len(set(updated_frequencies)) == 1:\n",
    "            return \"YES\"\n",
    "        char_counts[char] += 1\n",
    "\n",
    "    return \"NO\"\n",
    "\n",
    "#Test case 1\n",
    "s = \"aabbcc\"\n",
    "print(is_valid_string(s))\n",
    "#Output = YES\n",
    "\n",
    "#Test case 2\n",
    "s= \"aabcc\"\n",
    "print(is_valid_string(s))\n",
    "#oUTPUT = NO\n",
    "\n",
    "#Test Case 3 \n",
    "s = \"abcdcc\"\n",
    "print(is_valid_string(s))\n",
    "#Output No"
   ]
  },
  {
   "cell_type": "code",
   "execution_count": null,
   "id": "85613844",
   "metadata": {},
   "outputs": [],
   "source": []
  },
  {
   "cell_type": "code",
   "execution_count": null,
   "id": "ed8327f9",
   "metadata": {},
   "outputs": [],
   "source": []
  }
 ],
 "metadata": {
  "kernelspec": {
   "display_name": "Python 3 (ipykernel)",
   "language": "python",
   "name": "python3"
  },
  "language_info": {
   "codemirror_mode": {
    "name": "ipython",
    "version": 3
   },
   "file_extension": ".py",
   "mimetype": "text/x-python",
   "name": "python",
   "nbconvert_exporter": "python",
   "pygments_lexer": "ipython3",
   "version": "3.10.9"
  }
 },
 "nbformat": 4,
 "nbformat_minor": 5
}
