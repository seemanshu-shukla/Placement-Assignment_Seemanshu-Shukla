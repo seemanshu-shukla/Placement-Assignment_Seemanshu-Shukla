{
 "cells": [
  {
   "cell_type": "markdown",
   "id": "93a9cd0c",
   "metadata": {},
   "source": [
    "# Python\n",
    "# Answer 1"
   ]
  },
  {
   "cell_type": "code",
   "execution_count": 27,
   "id": "05592a61",
   "metadata": {},
   "outputs": [],
   "source": [
    "def len_highest_freq(string):\n",
    "    maxim = 0\n",
    "    most_freq_char = 0\n",
    "    l = []\n",
    "    most_freq = []\n",
    "    words = set(string.split())\n",
    "    for i in words:\n",
    "        l.append([i,string.count(i)])\n",
    "    for j in range(len(l)):\n",
    "        if l[j][1] > maxim:\n",
    "            maxim = l[j][1]\n",
    "        else:\n",
    "            continue\n",
    "    for k in range(len(l)):\n",
    "        if l[k][1] == maxim:\n",
    "           most_freq.append(l[k][0])\n",
    "    if len(most_freq) > 1:\n",
    "        return(len(most_freq[0]))\n",
    "    else:\n",
    "        for i in most_freq:\n",
    "            if len(i) > most_freq_char:\n",
    "                most_freq_char = len(i)\n",
    "            else:\n",
    "                continue\n",
    "        return(most_freq_char)"
   ]
  },
  {
   "cell_type": "code",
   "execution_count": 20,
   "id": "b2e51151",
   "metadata": {},
   "outputs": [
    {
     "name": "stdout",
     "output_type": "stream",
     "text": [
      "5\n"
     ]
    }
   ],
   "source": [
    "'''\n",
    "Default Test case 0:\n",
    "\n",
    "Example input - string = “write write write all the number from from from 1 to 100” \n",
    "Example output - 5 \n",
    "Explanation - From the given string we can note that the most frequent words are “write” and “from” and the maximum value of\n",
    "both the values is “write” and its corresponding length is 5\n",
    "\n",
    "'''\n",
    "\n",
    "string = \"write write write all the number from from from 1 to 100\"\n",
    "print(len_highest_freq(string))"
   ]
  },
  {
   "cell_type": "code",
   "execution_count": 29,
   "id": "0b03dec1",
   "metadata": {},
   "outputs": [
    {
     "name": "stdout",
     "output_type": "stream",
     "text": [
      "3\n"
     ]
    }
   ],
   "source": [
    "'''\n",
    "Test case 1:\n",
    "\n",
    "Example input - string = “This is a demo input to test the length of the highest frequest word”\n",
    "Example output - 3\n",
    "Explanation - From the given string we can note that the most frequent word is “the” whose corresponding length is 3\n",
    "\n",
    "'''\n",
    "\n",
    "string = \"This is a demo input to test the length of the highest frequest word\"\n",
    "print(len_highest_freq(string))"
   ]
  },
  {
   "cell_type": "code",
   "execution_count": 30,
   "id": "a3bdd2c2",
   "metadata": {},
   "outputs": [
    {
     "name": "stdout",
     "output_type": "stream",
     "text": [
      "0\n"
     ]
    }
   ],
   "source": [
    "'''\n",
    "Test case 2:\n",
    "\n",
    "Example input - string = “   ”\n",
    "Example output - 0\n",
    "Explanation - From the given string we can note that it does not have any word so corresponding length is 0\n",
    "\n",
    "'''\n",
    "\n",
    "string = \"   \"\n",
    "print(len_highest_freq(string))"
   ]
  },
  {
   "cell_type": "code",
   "execution_count": 23,
   "id": "db22e799",
   "metadata": {},
   "outputs": [
    {
     "name": "stdout",
     "output_type": "stream",
     "text": [
      "1\n"
     ]
    }
   ],
   "source": [
    "'''\n",
    "Test case 3:\n",
    "\n",
    "Example input - string = “I am working on creating a POC to automate a web based application that will reduce a lots of efforts”\n",
    "Example output - 1\n",
    "Explanation - From the given string we can note that the most frequent word is “a” whose corresponding length is 1\n",
    "\n",
    "'''\n",
    "\n",
    "string = \"I am working on creating a POC to automate a web based application that will reduce a lots of efforts\"\n",
    "print(len_highest_freq(string))"
   ]
  },
  {
   "cell_type": "code",
   "execution_count": null,
   "id": "a89db77c",
   "metadata": {},
   "outputs": [],
   "source": []
  }
 ],
 "metadata": {
  "kernelspec": {
   "display_name": "Python 3 (ipykernel)",
   "language": "python",
   "name": "python3"
  },
  "language_info": {
   "codemirror_mode": {
    "name": "ipython",
    "version": 3
   },
   "file_extension": ".py",
   "mimetype": "text/x-python",
   "name": "python",
   "nbconvert_exporter": "python",
   "pygments_lexer": "ipython3",
   "version": "3.10.9"
  }
 },
 "nbformat": 4,
 "nbformat_minor": 5
}
