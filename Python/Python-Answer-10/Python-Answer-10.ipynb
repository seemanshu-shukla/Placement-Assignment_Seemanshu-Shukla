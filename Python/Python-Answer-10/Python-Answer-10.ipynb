{
 "cells": [
  {
   "cell_type": "markdown",
   "id": "b3db3749",
   "metadata": {},
   "source": [
    "# Python\n",
    "# Answer 10"
   ]
  },
  {
   "cell_type": "code",
   "execution_count": 5,
   "id": "b104811b",
   "metadata": {},
   "outputs": [
    {
     "name": "stdout",
     "output_type": "stream",
     "text": [
      "Test Case 1 - Text: The dog is imitating the sound of passing ambulance.\n",
      "POS Counts: {'Verbs': 3, 'Nouns': 3, 'Pronouns': 0, 'Adjectives': 0}\n",
      "====================================================================================================\n",
      "Test Case 2 - Text: This hotel serves delicious food.\n",
      "POS Counts: {'Verbs': 1, 'Nouns': 2, 'Pronouns': 0, 'Adjectives': 1}\n",
      "====================================================================================================\n",
      "Additional Test Case 1 - Text: Wow, his monkeys really jump so high up\n",
      "POS Counts: {'Verbs': 1, 'Nouns': 2, 'Pronouns': 1, 'Adjectives': 1}\n",
      "====================================================================================================\n",
      "Additional Test Case 2 - Text: The big brown dog barked loudly.\n",
      "POS Counts: {'Verbs': 1, 'Nouns': 2, 'Pronouns': 0, 'Adjectives': 1}\n",
      "====================================================================================================\n"
     ]
    }
   ],
   "source": [
    "#For this problem we can use a pythonic library called nltk which is a natural language processing tool kit that can be\n",
    "#used for determining the part of speech.\n",
    "\n",
    "#word_tokenize will be used for tokenzing the sentence into words that is it will split the sentence into words upon which \n",
    "#part of speech needs to be determined.\n",
    "\n",
    "#pos_tag will be used to tag each word in the sentence with their respective part of speech.\n",
    "\n",
    "#Ref: 1. https://www.guru99.com/nltk-tutorial.html\n",
    "#     2. https://www.guru99.com/tokenize-words-sentences-nltk.html\n",
    "#     3. https://www.guru99.com/pos-tagging-chunking-nltk.html\n",
    " \n",
    "#import nltk\n",
    "\n",
    "from nltk import pos_tag\n",
    "from nltk.tokenize import word_tokenize\n",
    "\n",
    "def count_pos(sentence):\n",
    "    # Tokenize the text into words\n",
    "    words = word_tokenize(sentence)\n",
    "    \n",
    "    # Part-of-speech tagging\n",
    "    tagged_words = pos_tag(words)\n",
    "    \n",
    "    # Initialize counts\n",
    "    verb_count = 0\n",
    "    noun_count = 0\n",
    "    pronoun_count = 0\n",
    "    adjective_count = 0\n",
    "    \n",
    "    # Count the number of verbs, nouns, pronouns, and adjectives\n",
    "    for word, tag in tagged_words:\n",
    "        if tag.startswith('VB'):\n",
    "            verb_count += 1\n",
    "        elif tag.startswith('NN'):\n",
    "            noun_count += 1\n",
    "        elif tag.startswith('PRP'):\n",
    "            pronoun_count += 1\n",
    "        elif tag.startswith('JJ'):\n",
    "            adjective_count += 1\n",
    "    \n",
    "    # Create a dictionary with the counts\n",
    "    pos_counts = {\n",
    "        'Verbs': verb_count,\n",
    "        'Nouns': noun_count,\n",
    "        'Pronouns': pronoun_count,\n",
    "        'Adjectives': adjective_count\n",
    "    }\n",
    "    \n",
    "    return pos_counts\n",
    "\n",
    "# Test case 1\n",
    "text1 = \"The dog is imitating the sound of passing ambulance.\"\n",
    "pos_counts1 = count_pos(text1)\n",
    "print(\"Test Case 1 - Text:\", text1)\n",
    "print(\"POS Counts:\", pos_counts1)\n",
    "print(\"=\"*100)\n",
    "\n",
    "# Test case 2\n",
    "text2 = \"This hotel serves delicious food.\"\n",
    "pos_counts2 = count_pos(text2)\n",
    "print(\"Test Case 2 - Text:\", text2)\n",
    "print(\"POS Counts:\", pos_counts2)\n",
    "print(\"=\"*100)\n",
    "\n",
    "# Additional Test Case 1\n",
    "text3 = \"Wow, his monkeys really jump so high up\"\n",
    "pos_counts3 = count_pos(text3)\n",
    "print(\"Additional Test Case 1 - Text:\", text3)\n",
    "print(\"POS Counts:\", pos_counts3)\n",
    "print(\"=\"*100)\n",
    "\n",
    "# Additional Test Case 2\n",
    "text4 = \"The big brown dog barked loudly.\"\n",
    "pos_counts4 = count_pos(text4)\n",
    "print(\"Additional Test Case 2 - Text:\", text4)\n",
    "print(\"POS Counts:\", pos_counts4)\n",
    "print(\"=\"*100)"
   ]
  },
  {
   "cell_type": "code",
   "execution_count": null,
   "id": "1a046f5d",
   "metadata": {},
   "outputs": [],
   "source": []
  }
 ],
 "metadata": {
  "kernelspec": {
   "display_name": "Python 3 (ipykernel)",
   "language": "python",
   "name": "python3"
  },
  "language_info": {
   "codemirror_mode": {
    "name": "ipython",
    "version": 3
   },
   "file_extension": ".py",
   "mimetype": "text/x-python",
   "name": "python",
   "nbconvert_exporter": "python",
   "pygments_lexer": "ipython3",
   "version": "3.10.9"
  }
 },
 "nbformat": 4,
 "nbformat_minor": 5
}
