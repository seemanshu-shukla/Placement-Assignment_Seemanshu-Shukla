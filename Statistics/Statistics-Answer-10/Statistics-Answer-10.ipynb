{
 "cells": [
  {
   "cell_type": "markdown",
   "id": "2e87a07f",
   "metadata": {},
   "source": [
    "# Statistics Question 10\n",
    "\n",
    "A factory produces light bulbs, and the probability of a bulb being defective is 0.05.\n",
    "The factory produces a large batch of 500 light bulbs.\n",
    " - a. What is the probability that exactly 20 bulbs are defective?\n",
    " - b. What is the probability that at least 10 bulbs are defective?\n",
    " - c. What is the probability that at max 15 bulbs are defective?\n",
    " - d. On average, how many defective bulbs would you expect in a batch of 500?"
   ]
  },
  {
   "cell_type": "markdown",
   "id": "4f553736",
   "metadata": {},
   "source": [
    "# Answer"
   ]
  },
  {
   "cell_type": "code",
   "execution_count": 1,
   "id": "a1bc2552",
   "metadata": {},
   "outputs": [
    {
     "name": "stdout",
     "output_type": "stream",
     "text": [
      "Probability of exactly 20 defective bulbs: 0.051616192536641056\n",
      "Probability of at least 10 defective bulbs: 0.9998316463654902\n",
      "Probability of at most 15 defective bulbs: 0.01985837716300661\n",
      "Expected number of defective bulbs: 25.0\n"
     ]
    }
   ],
   "source": [
    "import scipy.stats as stats\n",
    "\n",
    "# Define the parameters\n",
    "n = 500  # total number of light bulbs\n",
    "p = 0.05  # probability of a bulb being defective\n",
    "\n",
    "# a. Probability of exactly 20 defective bulbs\n",
    "k1 = 20\n",
    "prob_20_defective = stats.binom.pmf(k1, n, p)\n",
    "print(\"Probability of exactly 20 defective bulbs:\", prob_20_defective)\n",
    "\n",
    "# b. Probability of at least 10 defective bulbs\n",
    "k2 = 10\n",
    "prob_at_least_10_defective = 1 - stats.binom.cdf(k2 - 1, n, p)\n",
    "print(\"Probability of at least 10 defective bulbs:\", prob_at_least_10_defective)\n",
    "\n",
    "# c. Probability of at most 15 defective bulbs\n",
    "k3 = 15\n",
    "prob_at_most_15_defective = stats.binom.cdf(k3, n, p)\n",
    "print(\"Probability of at most 15 defective bulbs:\", prob_at_most_15_defective)\n",
    "\n",
    "# d. Expected number of defective bulbs\n",
    "expected_defective_bulbs = n * p\n",
    "print(\"Expected number of defective bulbs:\", expected_defective_bulbs)"
   ]
  },
  {
   "cell_type": "code",
   "execution_count": null,
   "id": "5a86a13f",
   "metadata": {},
   "outputs": [],
   "source": []
  }
 ],
 "metadata": {
  "kernelspec": {
   "display_name": "Python 3 (ipykernel)",
   "language": "python",
   "name": "python3"
  },
  "language_info": {
   "codemirror_mode": {
    "name": "ipython",
    "version": 3
   },
   "file_extension": ".py",
   "mimetype": "text/x-python",
   "name": "python",
   "nbconvert_exporter": "python",
   "pygments_lexer": "ipython3",
   "version": "3.10.9"
  }
 },
 "nbformat": 4,
 "nbformat_minor": 5
}
