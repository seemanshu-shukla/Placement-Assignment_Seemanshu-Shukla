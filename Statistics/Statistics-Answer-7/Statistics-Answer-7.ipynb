{
 "cells": [
  {
   "cell_type": "markdown",
   "id": "02a1237e",
   "metadata": {},
   "source": [
    "# Statistics Question 7\n",
    "\n",
    "The equations of two lines of regression, obtained in a correlation analysis between variables X and Y are as follows:\n",
    "\n",
    "and . 2X + 3 − 8 = 0 2Y + X − 5 = 0 The variance of X = 4 Find the \n",
    " - a. Variance of Y \n",
    " - b. Coefficient of determination of C and Y \n",
    " - c. Standard error of estimate of X on Y and of Y on X.\n"
   ]
  },
  {
   "cell_type": "markdown",
   "id": "5807f8dd",
   "metadata": {},
   "source": [
    "# Answer\n",
    "\n",
    "a. Variance of Y = (slope of regression line for Y)(Variance of X) = 24 = 8\n",
    "\n",
    "b. Coefficient of determination of X and Y = explained variance/total variance = 8/12 = 2/3\n",
    "\n",
    "c. Standard error of estimate of X on Y: SEE(X|Y) = sqrt((1 - R^2) * variance of X) = sqrt((1 - 2/3) * 4) = sqrt(2/3)\n",
    "\n",
    "Standard error of estimate of Y on X: SEE(Y|X) = sqrt((1 - R^2) * variance of Y) = sqrt((1 - 2/3) * 8) = sqrt(8/3)"
   ]
  },
  {
   "cell_type": "code",
   "execution_count": null,
   "id": "0b8c88a4",
   "metadata": {},
   "outputs": [],
   "source": []
  }
 ],
 "metadata": {
  "kernelspec": {
   "display_name": "Python 3 (ipykernel)",
   "language": "python",
   "name": "python3"
  },
  "language_info": {
   "codemirror_mode": {
    "name": "ipython",
    "version": 3
   },
   "file_extension": ".py",
   "mimetype": "text/x-python",
   "name": "python",
   "nbconvert_exporter": "python",
   "pygments_lexer": "ipython3",
   "version": "3.10.9"
  }
 },
 "nbformat": 4,
 "nbformat_minor": 5
}
