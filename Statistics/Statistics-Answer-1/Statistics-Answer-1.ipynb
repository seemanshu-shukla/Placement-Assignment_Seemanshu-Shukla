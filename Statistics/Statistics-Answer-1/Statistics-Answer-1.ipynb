{
 "cells": [
  {
   "cell_type": "markdown",
   "id": "bd13390c",
   "metadata": {},
   "source": [
    "# Statistics Question 1\n",
    "\n",
    "A university wants to understand the relationship between the SAT scores of its applicants and their college GPA. They collect data on 500 students, including their SAT scores (out of 1600) and their college GPA (on a 4.0 scale). They find that the correlation coefficient between SAT scores and college GPA is 0.7. What does this correlation coefficient indicate about the relationship between SAT scores and college GPA?\n"
   ]
  },
  {
   "cell_type": "markdown",
   "id": "3df403ea",
   "metadata": {},
   "source": [
    "# Answer\n",
    "\n",
    "In correlation coefficient we are trying to restrict the values between -1 to 1.Here we are trying to define a scale. More the value towards +1 is, the more positively correlated it is, 0 represents no correlation and the more the value towards -1 is, the more negatively correlated it is. Here, the value of 0.7 suggests a relatively strong positive correlation between SAT scores and college GPA. so, A correlation coefficient of 0.7 between SAT scores and college GPA indicates a strong positive relationship between the two variables.\n",
    "\n",
    "This indicates that by increasing SAT scores, college GPA will also increase whereas, on decreasing SAT scores, college GPA will also decrease."
   ]
  },
  {
   "cell_type": "code",
   "execution_count": null,
   "id": "fadecb77",
   "metadata": {},
   "outputs": [],
   "source": []
  }
 ],
 "metadata": {
  "kernelspec": {
   "display_name": "Python 3 (ipykernel)",
   "language": "python",
   "name": "python3"
  },
  "language_info": {
   "codemirror_mode": {
    "name": "ipython",
    "version": 3
   },
   "file_extension": ".py",
   "mimetype": "text/x-python",
   "name": "python",
   "nbconvert_exporter": "python",
   "pygments_lexer": "ipython3",
   "version": "3.10.9"
  }
 },
 "nbformat": 4,
 "nbformat_minor": 5
}
