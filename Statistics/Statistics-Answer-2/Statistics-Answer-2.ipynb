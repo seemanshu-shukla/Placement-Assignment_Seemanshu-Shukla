{
 "cells": [
  {
   "cell_type": "markdown",
   "id": "11d35102",
   "metadata": {},
   "source": [
    "# Statistics Question 2\n",
    "\n",
    "Q-2. Consider a dataset containing the heights (in centimeters) of 1000 individuals. The mean height is 170 cm with a standard deviation of 10 cm. The dataset is approximately normally distributed, and its skewness is approximately zero. Based on this information, answer the following questions: a. What percentage of individuals in the dataset have heights between 160 cm and 180 cm? b. If we randomly select 100 individuals from the dataset, what is the probability that their average height is greater than 175 cm? c. Assuming the dataset follows a normal distribution, what is the z-score corresponding to a height of 185 cm? d. We know that 5% of the dataset has heights below a certain value. What is the approximate height corresponding to this threshold? e. Calculate the coefficient of variation (CV) for the dataset. f. Calculate the skewness of the dataset and interpret the result.\n"
   ]
  },
  {
   "cell_type": "markdown",
   "id": "0f65e94e",
   "metadata": {},
   "source": [
    "# Answer\n",
    "\n",
    "Mean,μ = 170 Standard Deviation,σ =10 Z score = (x-μ)/σ where x is the value we want to convert to z score\n",
    "\n",
    "a. As the dataset is normally distributed, we can use the standard normal distribution table or z-table. Z Score for 160 = (160-170)/10 = -1 Z Score for 180 = (180-170)/10 = 1\n",
    "\n",
    "Area under the bell curve to the left of 160 = 0.1587 Area under the bell curve to the left of 180 = 0.8413\n",
    "\n",
    "Percentage of individuals having heights between 160 cm and 180 cm = 0.8413-0.1587 = 0.6826 = 68%\n",
    "\n",
    "b. n=100 Standard error of mean(SEM) = 10/sqrt of 100 = 1 To find the Probability that the average height is greater than 175 cm , we have to calculate z score for 175 cm Z score for 175 = (175-170)/1 = 5 Using the z table, the probability of z>5 is found to be very close to 0. So, the probability that the average height of randomly selected 100 individuals is greater than 175 cm is approximately zero\n",
    "\n",
    "c. Z-score corresponding to a height of 185 cm = (185-170)/10 = 1.5\n",
    "\n",
    "d. We need to find the Z-score corresponding to the cumulative probability of 0.05(5%) Using z table , the Z-score corresponding to the cumulative probability of 0.05(5%) = -1.64 Z score for x = (x-μ)/σ -1.64 = (x-170)/10 x = -16.4+170 = 153.6 The approximate height corresponding to 5% threshold is 153.6cm\n",
    "\n",
    "e. Coefficient Of variation, CV =( σ/μ) * 100 = (10/170)100 = 0.0588100 = 58% approx.\n",
    "\n",
    "f. The skewness of a dataset measures the asymmetry of its distribution. A skewness value close to zero indicates that the dataset is approximately symmetric or normally distributed. Given that the skewness of the dataset is approximately zero, it means that the dataset is approximately symmetric, or in other words the heights are evenly distributed around the mean. There is no significant skew towards the left or right side of the distribution."
   ]
  },
  {
   "cell_type": "code",
   "execution_count": null,
   "id": "167e5ba6",
   "metadata": {},
   "outputs": [],
   "source": []
  }
 ],
 "metadata": {
  "kernelspec": {
   "display_name": "Python 3 (ipykernel)",
   "language": "python",
   "name": "python3"
  },
  "language_info": {
   "codemirror_mode": {
    "name": "ipython",
    "version": 3
   },
   "file_extension": ".py",
   "mimetype": "text/x-python",
   "name": "python",
   "nbconvert_exporter": "python",
   "pygments_lexer": "ipython3",
   "version": "3.10.9"
  }
 },
 "nbformat": 4,
 "nbformat_minor": 5
}
