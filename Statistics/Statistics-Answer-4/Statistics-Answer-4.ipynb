{
 "cells": [
  {
   "cell_type": "markdown",
   "id": "96469c0d",
   "metadata": {},
   "source": [
    "# Statistics Question 4\n",
    "\n",
    "A group of 20 friends decide to play a game in which they each write a number between 1 and 20 on a slip of paper and put it into a hat. They then draw one slip of paper at random. What is the probability that the number on the slip of paper is a perfect square (i.e., 1, 4, 9, or 16)?"
   ]
  },
  {
   "cell_type": "markdown",
   "id": "c0371ae4",
   "metadata": {},
   "source": [
    "# Answer\n",
    "\n",
    " - There are four perfect squares between 1 and 20: 1,4,9,16.\n",
    " - Total no. of possible outcomes = 20.\n",
    " - The probability that the number on the slip of the paper is a perfect square = No. of favorable outcomes/Total no. of possible outcomes = 4/20 = ⅕ = 0.2"
   ]
  },
  {
   "cell_type": "code",
   "execution_count": null,
   "id": "61b8cf22",
   "metadata": {},
   "outputs": [],
   "source": []
  }
 ],
 "metadata": {
  "kernelspec": {
   "display_name": "Python 3 (ipykernel)",
   "language": "python",
   "name": "python3"
  },
  "language_info": {
   "codemirror_mode": {
    "name": "ipython",
    "version": 3
   },
   "file_extension": ".py",
   "mimetype": "text/x-python",
   "name": "python",
   "nbconvert_exporter": "python",
   "pygments_lexer": "ipython3",
   "version": "3.10.9"
  }
 },
 "nbformat": 4,
 "nbformat_minor": 5
}
