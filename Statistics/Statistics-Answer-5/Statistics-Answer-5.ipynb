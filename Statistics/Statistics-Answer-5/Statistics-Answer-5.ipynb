{
 "cells": [
  {
   "cell_type": "markdown",
   "id": "66850efb",
   "metadata": {},
   "source": [
    "# Statistics Question 5\n",
    "\n",
    "\n",
    "A certain city has two taxi companies: Company A has 80% of the taxis and Company B has 20% of the taxis. Company A's taxis have a 95% success rate for picking up passengers on time, while Company B's taxis have a 90% success rate. If a randomly selected taxi is late, what is the probability that it belongs to Company A?\n"
   ]
  },
  {
   "cell_type": "markdown",
   "id": "97d89fb4",
   "metadata": {},
   "source": [
    "# Answer\n",
    "\n",
    " - P(A) = Probability of selecting a taxi from Company A = 80% = 0.8 \n",
    " - P(B) = Probability of selecting a taxi from Company A = 20% = 0.2 \n",
    " - P(L|A) = Probability of taxi being late given that it belongs to Company A = 1-0.95 = 0.05 P(L|B) = Probability of taxi being late given that it belongs to Company b= 1-0.90 = 0.10\n",
    "\n",
    " - According to Bayes’ theorem, P(A|L) = Probability of taxi belonging to Company A given that it is late = P(L|A)P(L|B)/{P(L|A)P(A)+ P(L|B)P(B) = (0.050.10)/{(0.050.8)+(0.100.2)} = 0.04/0.06 = 2/3\n",
    "\n",
    " - The probability that a randomly selected late taxi belongs to company A is 2/3 or 0.67 approx."
   ]
  },
  {
   "cell_type": "code",
   "execution_count": null,
   "id": "d837686e",
   "metadata": {},
   "outputs": [],
   "source": []
  }
 ],
 "metadata": {
  "kernelspec": {
   "display_name": "Python 3 (ipykernel)",
   "language": "python",
   "name": "python3"
  },
  "language_info": {
   "codemirror_mode": {
    "name": "ipython",
    "version": 3
   },
   "file_extension": ".py",
   "mimetype": "text/x-python",
   "name": "python",
   "nbconvert_exporter": "python",
   "pygments_lexer": "ipython3",
   "version": "3.10.9"
  }
 },
 "nbformat": 4,
 "nbformat_minor": 5
}
