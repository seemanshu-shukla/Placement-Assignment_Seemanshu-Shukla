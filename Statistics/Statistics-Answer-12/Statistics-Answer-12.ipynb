{
 "cells": [
  {
   "cell_type": "markdown",
   "id": "0add0561",
   "metadata": {},
   "source": [
    "# Statistics Question 12\n",
    "\n",
    "A pharmaceutical company develops a new drug and wants to compare its effectiveness against a standard drug for treating a particular condition. They conduct a study with two groups: Group A receives the new drug, and Group B receives the standard drug. The company measures the improvement in a specific symptom for both groups after a 4-week treatment period. \n",
    " - a. The company collects data from 30 patients in each group and calculates the mean improvement score and the standard deviation of improvement for each group. The mean improvement score for Group A is 2.5 with a standard deviation of 0.8, while the mean improvement score for Group B is 2.2 with a standard deviation of 0.6. Conduct a t-test to determine if there is a significant difference in the mean improvement scores between the two groups. Use a significance level of 0.05. \n",
    " - b. Based on the t-test results, state whether the null hypothesis should be rejected or not. Provide a conclusion in the context of the study.\n",
    "\n"
   ]
  },
  {
   "cell_type": "markdown",
   "id": "a1d61f3a",
   "metadata": {},
   "source": [
    "# Answer\n",
    "\n",
    "# a."
   ]
  },
  {
   "cell_type": "markdown",
   "id": "076edbec",
   "metadata": {},
   "source": [
    "- The null hypothesis (H0) states that there is no significant difference between the mean improvement scores of the two groups. - The alternative hypothesis (H1) states that there is a significant difference between the mean improvement scores of the two groups.\n",
    "\n",
    "- Given: Group A: Mean improvement score (x̄1) = 2.5 Standard deviation (s1) = 0.8 Sample size (n1) = 30\n",
    "\n",
    "- Group B: Mean improvement score (x̄2) = 2.2 Standard deviation (s2) = 0.6 Sample size (n2) = 30\n",
    "\n",
    "- Significance level (α) = 0.05\n",
    "\n",
    "- We can calculate the t-value using the following formula:\n",
    "\n",
    "t = (x̄1 - x̄2) / √[(s1^2/n1) + (s2^2/n2)]\n",
    "\n",
    "- Substituting the values, we get:\n",
    "\n",
    "t = (2.5 - 2.2) / √[(0.8^2/30) + (0.6^2/30)] = 0.3/√0.64/30 + √0.36/30 = 0.3/0.14+0.1.9 = 0.3/0.249 = 1.20\n",
    "\n",
    "- The degrees of freedom (df) for the t-test in this case is (n1 + n2 - 2) = (30 + 30 - 2) = 58.\n",
    "\n",
    "Looking up the critical t-value for a significance level of 0.05 and 58 degrees of freedom (two-tailed test), we find it to be approximately ±2.001.\n",
    " "
   ]
  },
  {
   "cell_type": "markdown",
   "id": "655aa0a8",
   "metadata": {},
   "source": [
    "# b.\n",
    "\n",
    "Since the calculated t-value (1.20) is not greater than 2.001 or less than -2.001, we fail to reject the null hypothesis (H0). This means that there is not enough evidence to conclude that there is a significant difference in the mean improvement scores between Group A and Group B.\n",
    "\n",
    "Based on the results of the t-test, we cannot conclude that the new drug has a significantly different effectiveness compared to the standard drug for treating the specific condition."
   ]
  },
  {
   "cell_type": "code",
   "execution_count": null,
   "id": "d46a70bf",
   "metadata": {},
   "outputs": [],
   "source": []
  }
 ],
 "metadata": {
  "kernelspec": {
   "display_name": "Python 3 (ipykernel)",
   "language": "python",
   "name": "python3"
  },
  "language_info": {
   "codemirror_mode": {
    "name": "ipython",
    "version": 3
   },
   "file_extension": ".py",
   "mimetype": "text/x-python",
   "name": "python",
   "nbconvert_exporter": "python",
   "pygments_lexer": "ipython3",
   "version": "3.10.9"
  }
 },
 "nbformat": 4,
 "nbformat_minor": 5
}
