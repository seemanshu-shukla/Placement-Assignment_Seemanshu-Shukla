{
 "cells": [
  {
   "cell_type": "markdown",
   "id": "2e87a07f",
   "metadata": {},
   "source": [
    "# Statistics Answer 9"
   ]
  },
  {
   "cell_type": "code",
   "execution_count": 1,
   "id": "1806cf00",
   "metadata": {},
   "outputs": [],
   "source": [
    "#Importing the required libraries\n",
    "\n",
    "import pandas as pd\n",
    "import scipy.stats as stats"
   ]
  },
  {
   "cell_type": "code",
   "execution_count": 2,
   "id": "68f13aa4",
   "metadata": {},
   "outputs": [],
   "source": [
    "# Create a DataFrame with the given data\n",
    "data = {\n",
    "    'name': ['karan', 'deepa', 'karthik', 'chandan', 'jeevan'],\n",
    "    'exam1': [85, 70, 90, 75, 95],\n",
    "    'exam2': [90, 80, 85, 70, 92],\n",
    "    'finalexam': [92, 85, 88, 75, 96]\n",
    "}"
   ]
  },
  {
   "cell_type": "code",
   "execution_count": 3,
   "id": "fd89d9ea",
   "metadata": {},
   "outputs": [
    {
     "data": {
      "text/html": [
       "<div>\n",
       "<style scoped>\n",
       "    .dataframe tbody tr th:only-of-type {\n",
       "        vertical-align: middle;\n",
       "    }\n",
       "\n",
       "    .dataframe tbody tr th {\n",
       "        vertical-align: top;\n",
       "    }\n",
       "\n",
       "    .dataframe thead th {\n",
       "        text-align: right;\n",
       "    }\n",
       "</style>\n",
       "<table border=\"1\" class=\"dataframe\">\n",
       "  <thead>\n",
       "    <tr style=\"text-align: right;\">\n",
       "      <th></th>\n",
       "      <th>name</th>\n",
       "      <th>exam1</th>\n",
       "      <th>exam2</th>\n",
       "      <th>finalexam</th>\n",
       "    </tr>\n",
       "  </thead>\n",
       "  <tbody>\n",
       "    <tr>\n",
       "      <th>0</th>\n",
       "      <td>karan</td>\n",
       "      <td>85</td>\n",
       "      <td>90</td>\n",
       "      <td>92</td>\n",
       "    </tr>\n",
       "    <tr>\n",
       "      <th>1</th>\n",
       "      <td>deepa</td>\n",
       "      <td>70</td>\n",
       "      <td>80</td>\n",
       "      <td>85</td>\n",
       "    </tr>\n",
       "    <tr>\n",
       "      <th>2</th>\n",
       "      <td>karthik</td>\n",
       "      <td>90</td>\n",
       "      <td>85</td>\n",
       "      <td>88</td>\n",
       "    </tr>\n",
       "    <tr>\n",
       "      <th>3</th>\n",
       "      <td>chandan</td>\n",
       "      <td>75</td>\n",
       "      <td>70</td>\n",
       "      <td>75</td>\n",
       "    </tr>\n",
       "    <tr>\n",
       "      <th>4</th>\n",
       "      <td>jeevan</td>\n",
       "      <td>95</td>\n",
       "      <td>92</td>\n",
       "      <td>96</td>\n",
       "    </tr>\n",
       "  </tbody>\n",
       "</table>\n",
       "</div>"
      ],
      "text/plain": [
       "      name  exam1  exam2  finalexam\n",
       "0    karan     85     90         92\n",
       "1    deepa     70     80         85\n",
       "2  karthik     90     85         88\n",
       "3  chandan     75     70         75\n",
       "4   jeevan     95     92         96"
      ]
     },
     "execution_count": 3,
     "metadata": {},
     "output_type": "execute_result"
    }
   ],
   "source": [
    "#Reading the dataframe\n",
    "\n",
    "df = pd.DataFrame(data)\n",
    "df"
   ]
  },
  {
   "cell_type": "code",
   "execution_count": 4,
   "id": "b4d3682c",
   "metadata": {},
   "outputs": [
    {
     "name": "stdout",
     "output_type": "stream",
     "text": [
      "One-way ANOVA F-statistic: 0.3236947791164659\n",
      "p-value: 0.7295954253321558\n"
     ]
    }
   ],
   "source": [
    "# Perform one-way ANOVA\n",
    "f_statistic, p_value = stats.f_oneway(df['exam1'], df['exam2'], df['finalexam'])\n",
    "\n",
    "# Print the test statistic and p-value\n",
    "print(\"One-way ANOVA F-statistic:\", f_statistic)\n",
    "print(\"p-value:\", p_value)"
   ]
  },
  {
   "cell_type": "markdown",
   "id": "63f811e9",
   "metadata": {},
   "source": [
    "The p-value is greater than the chosen significance level ( 0.05), it indicates that there is no significant differences in the mean scores of the students across the exams, and we accept the null hypothesis that the mean scores are the same.\n"
   ]
  },
  {
   "cell_type": "code",
   "execution_count": 5,
   "id": "c787883e",
   "metadata": {},
   "outputs": [
    {
     "name": "stdout",
     "output_type": "stream",
     "text": [
      "Student with the highest score: Jeevan\n"
     ]
    }
   ],
   "source": [
    "#Finding the Student with the highest score\n",
    "\n",
    "max_score = df[['exam1', 'exam2', 'finalexam']].max().max()\n",
    "student_with_highest_score = df[df[['exam1', 'exam2', 'finalexam']].max(axis=1) == max_score]['name'].iloc[0]\n",
    "\n",
    "print(\"Student with the highest score:\", student_with_highest_score.capitalize())\n",
    "\n"
   ]
  },
  {
   "cell_type": "code",
   "execution_count": null,
   "id": "637bc41d",
   "metadata": {},
   "outputs": [],
   "source": []
  }
 ],
 "metadata": {
  "kernelspec": {
   "display_name": "Python 3 (ipykernel)",
   "language": "python",
   "name": "python3"
  },
  "language_info": {
   "codemirror_mode": {
    "name": "ipython",
    "version": 3
   },
   "file_extension": ".py",
   "mimetype": "text/x-python",
   "name": "python",
   "nbconvert_exporter": "python",
   "pygments_lexer": "ipython3",
   "version": "3.10.9"
  }
 },
 "nbformat": 4,
 "nbformat_minor": 5
}
